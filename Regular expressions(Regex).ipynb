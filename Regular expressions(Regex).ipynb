{
 "cells": [
  {
   "cell_type": "markdown",
   "metadata": {},
   "source": [
    "# Python Regular expressions"
   ]
  },
  {
   "cell_type": "code",
   "execution_count": 14,
   "metadata": {},
   "outputs": [
    {
     "name": "stdout",
     "output_type": "stream",
     "text": [
      "India\n",
      "None\n"
     ]
    }
   ],
   "source": [
    "import re\n",
    "#re.match() - returns only if the string is available in the beginning of the searched sentence\n",
    "string1 = \"India is my country\"\n",
    "result = re.match(\"India\", string1)\n",
    "print(result.group())\n",
    "result1 = re.match(\"country\", string1)\n",
    "print(result1)"
   ]
  },
  {
   "cell_type": "code",
   "execution_count": 10,
   "metadata": {},
   "outputs": [
    {
     "name": "stdout",
     "output_type": "stream",
     "text": [
      "country\n",
      "temenos\n"
     ]
    }
   ],
   "source": [
    "#re.search() -finds the first occurance of the string is present anywhere in the searched sentence/string\n",
    "result2 = re.search(\"country\", string1)\n",
    "print(result2.group())\n",
    "str2 = \"Venkatesh is working in temenos. He wants to move out of temenos\"\n",
    "result3 = re.search(\"temenos\", str2)\n",
    "print(result3.group())"
   ]
  },
  {
   "cell_type": "code",
   "execution_count": 13,
   "metadata": {},
   "outputs": [
    {
     "name": "stdout",
     "output_type": "stream",
     "text": [
      "['temenos', 'temenos']\n",
      "[]\n"
     ]
    }
   ],
   "source": [
    "# re.findall() - finds all the occurrances of the searched string\n",
    "result4 = re.findall(\"temenos\", str2)\n",
    "print(result4)\n",
    "result5 = re.findall(\"nagarjun\", str2)\n",
    "print(result5)"
   ]
  },
  {
   "cell_type": "markdown",
   "metadata": {},
   "source": [
    "## Special characters"
   ]
  },
  {
   "cell_type": "code",
   "execution_count": 33,
   "metadata": {},
   "outputs": [
    {
     "name": "stdout",
     "output_type": "stream",
     "text": [
      "This is very nice. The path is C\u0007esktop\n",
      "This is very nice. The path is C:\\Users\\desktop\n"
     ]
    }
   ],
   "source": [
    "# normal string and raw string\n",
    "str1 = 'This is very nice. The path is C\\aesktop'\n",
    "print(str1)\n",
    "str2 = r'This is very nice. The path is C:\\Users\\desktop'\n",
    "print(str2)"
   ]
  },
  {
   "cell_type": "code",
   "execution_count": 39,
   "metadata": {},
   "outputs": [
    {
     "name": "stdout",
     "output_type": "stream",
     "text": [
      "['mahal']\n"
     ]
    }
   ],
   "source": [
    "# \\b - check if there is any word that ends with mahal\n",
    "str1 = r'Tajmahal is very beautiful'\n",
    "result = re.findall(r'mahal\\b', str1)\n",
    "print(result)"
   ]
  },
  {
   "cell_type": "code",
   "execution_count": 42,
   "metadata": {},
   "outputs": [
    {
     "data": {
      "text/plain": [
       "['1', '0', '2']"
      ]
     },
     "execution_count": 42,
     "metadata": {},
     "output_type": "execute_result"
    }
   ],
   "source": [
    "# \\d - check if the text contains digits\n",
    "str1 = r'there are 10 books in my shelf and 2 cars in the cupboard'\n",
    "result = re.findall(r'\\d', str1)\n",
    "result\n",
    "# Since \\d is used, the numbers are returned, but 10 is returned as two seperate numbers."
   ]
  },
  {
   "cell_type": "code",
   "execution_count": 44,
   "metadata": {},
   "outputs": [
    {
     "data": {
      "text/plain": [
       "['10', '2']"
      ]
     },
     "execution_count": 44,
     "metadata": {},
     "output_type": "execute_result"
    }
   ],
   "source": [
    "# In order to return the number as 10, we use \\d+ --> it will keep printing the numbers until next occurance is space\n",
    "result1 = re.findall(r'\\d+', str1)\n",
    "result1"
   ]
  },
  {
   "cell_type": "code",
   "execution_count": 46,
   "metadata": {},
   "outputs": [
    {
     "data": {
      "text/plain": [
       "['t',\n",
       " 'h',\n",
       " 'e',\n",
       " 'r',\n",
       " 'e',\n",
       " ' ',\n",
       " 'a',\n",
       " 'r',\n",
       " 'e',\n",
       " ' ',\n",
       " ' ',\n",
       " 'b',\n",
       " 'o',\n",
       " 'o',\n",
       " 'k',\n",
       " 's',\n",
       " ' ',\n",
       " 'i',\n",
       " 'n',\n",
       " ' ',\n",
       " 'm',\n",
       " 'y',\n",
       " ' ',\n",
       " 's',\n",
       " 'h',\n",
       " 'e',\n",
       " 'l',\n",
       " 'f',\n",
       " ' ',\n",
       " 'a',\n",
       " 'n',\n",
       " 'd',\n",
       " ' ',\n",
       " ' ',\n",
       " 'c',\n",
       " 'a',\n",
       " 'r',\n",
       " 's',\n",
       " ' ',\n",
       " 'i',\n",
       " 'n',\n",
       " ' ',\n",
       " 't',\n",
       " 'h',\n",
       " 'e',\n",
       " ' ',\n",
       " 'c',\n",
       " 'u',\n",
       " 'p',\n",
       " 'b',\n",
       " 'o',\n",
       " 'a',\n",
       " 'r',\n",
       " 'd']"
      ]
     },
     "execution_count": 46,
     "metadata": {},
     "output_type": "execute_result"
    }
   ],
   "source": [
    "# \\D - checks for non numbers - opposite of \\d\n",
    "result2 = re.findall(r'\\D', str1)\n",
    "result2"
   ]
  },
  {
   "cell_type": "code",
   "execution_count": 48,
   "metadata": {},
   "outputs": [
    {
     "data": {
      "text/plain": [
       "['there are ', ' books in my shelf and ', ' cars in the cupboard']"
      ]
     },
     "execution_count": 48,
     "metadata": {},
     "output_type": "execute_result"
    }
   ],
   "source": [
    "# \\D+\n",
    "result3 = re.findall(r'\\D+', str1)\n",
    "result3"
   ]
  },
  {
   "cell_type": "code",
   "execution_count": 50,
   "metadata": {},
   "outputs": [
    {
     "data": {
      "text/plain": [
       "['T',\n",
       " 'h',\n",
       " 'i',\n",
       " 's',\n",
       " 'i',\n",
       " 's',\n",
       " 'a',\n",
       " 'w',\n",
       " 'e',\n",
       " 's',\n",
       " 'o',\n",
       " 'm',\n",
       " 'e',\n",
       " 'M',\n",
       " 'y',\n",
       " 'g',\n",
       " 'm',\n",
       " 'a',\n",
       " 'i',\n",
       " 'l',\n",
       " 'i',\n",
       " 'd',\n",
       " 'i',\n",
       " 's',\n",
       " 'v',\n",
       " 'e',\n",
       " 'n',\n",
       " 'k',\n",
       " 'y',\n",
       " 'r',\n",
       " 'a',\n",
       " 'v',\n",
       " 'i',\n",
       " '9',\n",
       " '7',\n",
       " 'g',\n",
       " 'm',\n",
       " 'a',\n",
       " 'i',\n",
       " 'l',\n",
       " 'c',\n",
       " 'o',\n",
       " 'm',\n",
       " 'n',\n",
       " 'o',\n",
       " 't',\n",
       " 'v',\n",
       " 'e',\n",
       " 'n',\n",
       " 'k',\n",
       " 'y',\n",
       " '_',\n",
       " 'r',\n",
       " 'a',\n",
       " 'v',\n",
       " 'i']"
      ]
     },
     "execution_count": 50,
     "metadata": {},
     "output_type": "execute_result"
    }
   ],
   "source": [
    "# \\w -checks for alpha numeric characters\n",
    "str2 = r'This is awesome. My gmail id is venkyravi97@gmail.com, not venky_ravi#$'\n",
    "result4 = re.findall(r'\\w',str2)\n",
    "result4"
   ]
  },
  {
   "cell_type": "code",
   "execution_count": 52,
   "metadata": {},
   "outputs": [
    {
     "data": {
      "text/plain": [
       "['This',\n",
       " 'is',\n",
       " 'awesome',\n",
       " 'My',\n",
       " 'gmail',\n",
       " 'id',\n",
       " 'is',\n",
       " 'venkyravi97',\n",
       " 'gmail',\n",
       " 'com',\n",
       " 'not',\n",
       " 'venky_ravi']"
      ]
     },
     "execution_count": 52,
     "metadata": {},
     "output_type": "execute_result"
    }
   ],
   "source": [
    "# \\w+\n",
    "result5 = re.findall(r'\\w+', str2)\n",
    "result5"
   ]
  },
  {
   "cell_type": "code",
   "execution_count": 55,
   "metadata": {},
   "outputs": [
    {
     "data": {
      "text/plain": [
       "[' ', ' ', '. ', ' ', ' ', ' ', ' ', '@', '.', ', ', ' ', '#$']"
      ]
     },
     "execution_count": 55,
     "metadata": {},
     "output_type": "execute_result"
    }
   ],
   "source": [
    "# \\W - opposite of \\w -- returns the non alpha numeric characters\n",
    "result6 = re.findall(r'\\W+', str2)\n",
    "result6"
   ]
  },
  {
   "cell_type": "code",
   "execution_count": 59,
   "metadata": {},
   "outputs": [
    {
     "name": "stdout",
     "output_type": "stream",
     "text": [
      "['good']\n",
      "['go']\n",
      "['good']\n"
     ]
    }
   ],
   "source": [
    "# . - checks if there is one character after the character specified\n",
    "str3 = r'I am a good boy. Wake me up'\n",
    "result7 = re.findall(r'goo.', str3)\n",
    "print(result7)\n",
    "result8 = re.findall(r'g.', str3)\n",
    "print(result8)\n",
    "# number of dots --> number of characters\n",
    "result9 = re.findall(r'g...', str3)\n",
    "print(result9)"
   ]
  },
  {
   "cell_type": "code",
   "execution_count": 64,
   "metadata": {},
   "outputs": [
    {
     "data": {
      "text/plain": [
       "['Hello']"
      ]
     },
     "execution_count": 64,
     "metadata": {},
     "output_type": "execute_result"
    }
   ],
   "source": [
    "# ^ - carat symbol - check if the whole text begins with the entered string\n",
    "str4 = r'Hello everyone. Hope you are all fine'\n",
    "result10 = re.findall(r'^Hello',str4)\n",
    "result10"
   ]
  },
  {
   "cell_type": "code",
   "execution_count": 72,
   "metadata": {},
   "outputs": [
    {
     "data": {
      "text/plain": [
       "['fine']"
      ]
     },
     "execution_count": 72,
     "metadata": {},
     "output_type": "execute_result"
    }
   ],
   "source": [
    "# $ - dollar symbol - check if whole text ends with the entered string\n",
    "result11 = re.findall(r'fine$', str4)\n",
    "result11"
   ]
  },
  {
   "cell_type": "code",
   "execution_count": 75,
   "metadata": {},
   "outputs": [
    {
     "data": {
      "text/plain": [
       "['H', 'Ho']"
      ]
     },
     "execution_count": 75,
     "metadata": {},
     "output_type": "execute_result"
    }
   ],
   "source": [
    "# * - checks if sentence contains 0 or many occurances of the character\n",
    "result12 = re.findall(r'Ho*', str4)\n",
    "result12"
   ]
  },
  {
   "cell_type": "code",
   "execution_count": 78,
   "metadata": {},
   "outputs": [
    {
     "data": {
      "text/plain": [
       "['Ho']"
      ]
     },
     "execution_count": 78,
     "metadata": {},
     "output_type": "execute_result"
    }
   ],
   "source": [
    "# + - checks if sentence contains 1 or many occurances of character\n",
    "result13 = re.findall(r'Ho+', str4)\n",
    "result13"
   ]
  },
  {
   "cell_type": "code",
   "execution_count": 81,
   "metadata": {},
   "outputs": [
    {
     "data": {
      "text/plain": [
       "['Hope']"
      ]
     },
     "execution_count": 81,
     "metadata": {},
     "output_type": "execute_result"
    }
   ],
   "source": [
    "# ? - checks 0 or 1 occurance of the character to the left\n",
    "result14 = re.findall(r'Hop?e', str4)\n",
    "result14"
   ]
  },
  {
   "cell_type": "code",
   "execution_count": 84,
   "metadata": {},
   "outputs": [
    {
     "data": {
      "text/plain": [
       "['Hello', 'Hope']"
      ]
     },
     "execution_count": 84,
     "metadata": {},
     "output_type": "execute_result"
    }
   ],
   "source": [
    "# | - pipe symbol - either or\n",
    "result15 = re.findall(r'Hello|Hope', str4)\n",
    "result15"
   ]
  },
  {
   "cell_type": "markdown",
   "metadata": {},
   "source": [
    "## Sets"
   ]
  },
  {
   "cell_type": "code",
   "execution_count": 90,
   "metadata": {},
   "outputs": [
    {
     "data": {
      "text/plain": [
       "['y', 'd', 'h', 'y', 'h', 'h', 'y', 'h', 'h']"
      ]
     },
     "execution_count": 90,
     "metadata": {},
     "output_type": "execute_result"
    }
   ],
   "source": [
    "# [ydh]\n",
    "\n",
    "str5 = \"Analytics Vidhya is the best website among all the 100 websites to learn analytics with more than 798 topics @#wfwg $%_\"\n",
    "result16 = re.findall(r'[ydh]', str5)\n",
    "result16"
   ]
  },
  {
   "cell_type": "code",
   "execution_count": 91,
   "metadata": {},
   "outputs": [
    {
     "data": {
      "text/plain": [
       "['a', 'c', 'a', 'b', 'b', 'a', 'a', 'b', 'a', 'a', 'a', 'c', 'a', 'c']"
      ]
     },
     "execution_count": 91,
     "metadata": {},
     "output_type": "execute_result"
    }
   ],
   "source": [
    "# [a-c]\n",
    "result17 = re.findall(r'[a-c]', str5)\n",
    "result17"
   ]
  },
  {
   "cell_type": "code",
   "execution_count": 95,
   "metadata": {},
   "outputs": [
    {
     "data": {
      "text/plain": [
       "['798']"
      ]
     },
     "execution_count": 95,
     "metadata": {},
     "output_type": "execute_result"
    }
   ],
   "source": [
    "# [0-6]\\d+\n",
    "result18 = re.findall(r'[7-9]\\d+',str5)\n",
    "result18"
   ]
  },
  {
   "cell_type": "code",
   "execution_count": 98,
   "metadata": {},
   "outputs": [
    {
     "data": {
      "text/plain": [
       "[' ',\n",
       " ' ',\n",
       " ' ',\n",
       " ' ',\n",
       " ' ',\n",
       " ' ',\n",
       " ' ',\n",
       " ' ',\n",
       " ' ',\n",
       " ' ',\n",
       " ' ',\n",
       " ' ',\n",
       " ' ',\n",
       " ' ',\n",
       " ' ',\n",
       " ' ',\n",
       " ' ',\n",
       " ' ',\n",
       " ' ',\n",
       " '@',\n",
       " '#',\n",
       " ' ',\n",
       " '$',\n",
       " '%']"
      ]
     },
     "execution_count": 98,
     "metadata": {},
     "output_type": "execute_result"
    }
   ],
   "source": [
    "# print all the non alphanumeric characters - [^a-zA-Z0-9]\n",
    "result19 = re.findall(r'[^a-zA-Z0-9_]', str5)\n",
    "result19"
   ]
  },
  {
   "cell_type": "markdown",
   "metadata": {},
   "source": [
    "## Solving complex queries\n"
   ]
  },
  {
   "cell_type": "code",
   "execution_count": 102,
   "metadata": {},
   "outputs": [
    {
     "data": {
      "text/plain": [
       "['venkyravi97@gmail.com', 'pavithraa_ns@gmail.com', 'anjana.menon@yahoo.com']"
      ]
     },
     "execution_count": 102,
     "metadata": {},
     "output_type": "execute_result"
    }
   ],
   "source": [
    "# Extracting email ids from the text\n",
    "text1 = \"Test for email ids number one venkyravi97@gmail.com number two pavithraa_ns@gmail.com number 3 anjana.menon@yahoo.com\"\n",
    "email_ids = re.findall(r'[a-zA-Z._0-9]+@\\w+.com', text1)\n",
    "email_ids"
   ]
  },
  {
   "cell_type": "code",
   "execution_count": 106,
   "metadata": {},
   "outputs": [
    {
     "data": {
      "text/plain": [
       "[' 12-12-2020 ', ' 15.05.1997 ', ' Aug 19 1996']"
      ]
     },
     "execution_count": 106,
     "metadata": {},
     "output_type": "execute_result"
    }
   ],
   "source": [
    "# Extracting dates\n",
    "text2 = \"Test for dates number one 12-12-2020 number two 15.05.1997 number three 29.01.97 number 4 Aug 19 1996\"\n",
    "dates = re.findall(r'\\d{2}-\\d{2}-\\d{4} | \\d{2}.\\d{2}.\\d{4} | \\w{3}.\\d{2}.\\d{4}', text2)\n",
    "dates"
   ]
  }
 ],
 "metadata": {
  "kernelspec": {
   "display_name": "Python 3",
   "language": "python",
   "name": "python3"
  },
  "language_info": {
   "codemirror_mode": {
    "name": "ipython",
    "version": 3
   },
   "file_extension": ".py",
   "mimetype": "text/x-python",
   "name": "python",
   "nbconvert_exporter": "python",
   "pygments_lexer": "ipython3",
   "version": "3.7.3"
  }
 },
 "nbformat": 4,
 "nbformat_minor": 2
}
